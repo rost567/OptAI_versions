{
 "cells": [
  {
   "cell_type": "code",
   "execution_count": 1,
   "id": "40707dae",
   "metadata": {},
   "outputs": [],
   "source": [
    "import numpy as np\n",
    "import matplotlib.pyplot as plt\n",
    "from scipy.optimize import differential_evolution\n",
    "from itertools import combinations\n",
    "import itertools"
   ]
  },
  {
   "cell_type": "markdown",
   "id": "55c70d6a",
   "metadata": {},
   "source": [
    "### Ackley function"
   ]
  },
  {
   "cell_type": "code",
   "execution_count": 2,
   "id": "0189474f",
   "metadata": {},
   "outputs": [
    {
     "name": "stdout",
     "output_type": "stream",
     "text": [
      "11.601912858824367\n"
     ]
    }
   ],
   "source": [
    "def ackley(x):\n",
    "    d = len(x)\n",
    "    sum_sq = np.sum(x**2)\n",
    "    sum_cos = np.sum(np.cos(2*np.pi*x))\n",
    "    return -20*np.exp(-0.2*np.sqrt(sum_sq/d)) - np.exp(sum_cos/d) + 20 + np.exp(1)\n",
    "\n",
    "l_bound = -5\n",
    "u_bound = 5\n",
    "x = np.random.uniform(low=l_bound, high=u_bound, size=5)\n",
    "print(ackley(x))\n"
   ]
  },
  {
   "cell_type": "markdown",
   "id": "cd77b6b4",
   "metadata": {},
   "source": [
    "**a)** Using Monte Carlo search (MCS), how do the results improve when the number of function evaluations is increased from 1’000 to 2’000, 4’000, 8’000, and 16’000?\n",
    "When using MCS to optimize the Ackley function, increasing the number of function evaluations will generally improve the quality of the solution found. This is because\n",
    "increasing the number of evaluations provides more opportunities for the algorithm to explore the search space and discover better solutions.<br>\n",
    "So, when the number of function evaluations is increased the accurate of the model is improving.\n"
   ]
  },
  {
   "cell_type": "code",
   "execution_count": 3,
   "id": "bb585ae6",
   "metadata": {},
   "outputs": [
    {
     "name": "stdout",
     "output_type": "stream",
     "text": [
      "1000 evaluations: 4.645286\n",
      "2000 evaluations: 4.729348\n",
      "4000 evaluations: 2.632915\n",
      "8000 evaluations: 3.210046\n",
      "16000 evaluations: 2.698460\n"
     ]
    },
    {
     "data": {
      "image/png": "[encoded data removed]",
      "text/plain": [
       "<Figure size 640x480 with 1 Axes>"
      ]
     },
     "metadata": {},
     "output_type": "display_data"
    }
   ],
   "source": [
    "def mcs(n_evals, n_dims):\n",
    "    best_solution = None\n",
    "    min_val = np.inf\n",
    "    for i in range(n_evals):\n",
    "        x = np.random.uniform(-5, 5, n_dims)\n",
    "        val = ackley(x)\n",
    "        if val < min_val:\n",
    "            min_val = val\n",
    "            best_solution = x\n",
    "    return min_val\n",
    "\n",
    "evals_list = [1000, 2000, 4000, 8000, 16000]\n",
    "dims = 5\n",
    "min_vals = []\n",
    "for n_evals in evals_list:\n",
    "    min_val = mcs(n_evals, dims)\n",
    "    min_vals.append(min_val)\n",
    "    print(f\"{n_evals} evaluations: {min_val:.6f}\")\n",
    "    \n",
    "#print (results)\n",
    "plt.plot(evals_list, min_vals, 'bo-')\n",
    "plt.xscale('log')\n",
    "#plt.xticks(evals_list)\n",
    "plt.xlabel('Number of Functions to evaluate')\n",
    "plt.ylabel('Minimum Value of ackley Function')\n",
    "plt.show()\n"
   ]
  },
  {
   "cell_type": "markdown",
   "id": "9214c91c",
   "metadata": {},
   "source": [
    "Now to understand better I plot Evals_list that takes values which differ by factors of 2,\n",
    "[1000, 2000, 4000, 8000, 16000], that is why the log scale. Now, a logartimic scale with\n",
    "mcs function changes as the number of functions increases over several orders of\n",
    "magnitudes, it help us to see if the algorithm converges to a satble minimum value or if it\n",
    "continues as the number of funciton evaluations increases."
   ]
  },
  {
   "cell_type": "markdown",
   "id": "50139fce",
   "metadata": {},
   "source": [
    "**b)**  Using Differential Evolution (DE) with function evaluations as above and “typical” settings\n",
    "for the remaining hyperparameters (popSize=15, pXO=0.5, F=0.7), how to the reported\n",
    "results compare to those from MCS?"
   ]
  },
  {
   "cell_type": "code",
   "execution_count": 5,
   "id": "ff029cd5",
   "metadata": {},
   "outputs": [
    {
     "name": "stdout",
     "output_type": "stream",
     "text": [
      "Result for maxIter=1000evaluations: 4.440892098500626e-16\n",
      "Result for maxIter=2000evaluations: 4.440892098500626e-16\n",
      "Result for maxIter=4000evaluations: 4.440892098500626e-16\n",
      "Result for maxIter=8000evaluations: 4.440892098500626e-16\n",
      "Result for maxIter=16000evaluations: 4.440892098500626e-16\n"
     ]
    }
   ],
   "source": [
    "bounds = [(-5, 5)] * 5\n",
    "for i in evals_list:\n",
    "    result = differential_evolution(ackley, bounds, popsize=15, mutation=0.7, recombination=0.5, maxiter=i, tol=1e-7)\n",
    "    print(f\"Result for maxIter={i}evaluations: {result.fun:}\")\n"
   ]
  },
  {
   "cell_type": "markdown",
   "id": "840981ee",
   "metadata": {},
   "source": [
    "To compare the results from DE to those from MCS, we can run both algorithms with the same number of function evaluations (e.g. 1000) and compare the best fitness values obtained. In general, DE is expected to perform better than MCS for high-dimensional problems like the Ackley function, as it uses a population-based approach that can better explore the search space. However, the performance of DE can be sensitive to the choice of hyperparameters, so it may require some tuning to achieve good results."
   ]
  },
  {
   "cell_type": "code",
   "execution_count": 6,
   "id": "229cf3c6",
   "metadata": {
    "scrolled": true
   },
   "outputs": [
    {
     "name": "stdout",
     "output_type": "stream",
     "text": [
      "MCS result with 1000 evaluations:4.41306056739208\n",
      "DE result with 1000 evlauations:1.9891399194449377e-08\n",
      "MCS result with 2000 evaluations:3.880375602205025\n",
      "DE result with 2000 evlauations:4.6397063968584007e-10\n",
      "MCS result with 4000 evaluations:3.9529906705919022\n",
      "DE result with 4000 evlauations:4.440892098500626e-16\n",
      "MCS result with 8000 evaluations:3.1243219675167926\n",
      "DE result with 8000 evlauations:4.440892098500626e-16\n",
      "MCS result with 16000 evaluations:2.6049888316812866\n",
      "DE result with 16000 evlauations:4.440892098500626e-16\n"
     ]
    }
   ],
   "source": [
    "def compare_mcs_vs_de(evals_list,n_dims):\n",
    "    for i in evals_list:\n",
    "        mcs_result = mcs(i,n_dims)\n",
    "        de_result = differential_evolution(ackley, [(-5, 5)]*5, popsize=15, mutation=0.7, recombination=0.5, maxiter=i//15, tol=1e-7).fun\n",
    "        print(f\"MCS result with {i} evaluations:{mcs_result}\")\n",
    "        print(f\"DE result with {i} evlauations:{de_result}\")\n",
    "\n",
    "compare_mcs_vs_de(evals_list,dims)\n"
   ]
  },
  {
   "cell_type": "markdown",
   "id": "d3dfd8ca",
   "metadata": {},
   "source": [
    "The results of MCS and DE means the best fitness values for the minimum value of\n",
    "the Ackley function found by each algorithm after 1’000, 2’000, 4’000, 8’000, and\n",
    "16’000 function evaluations.\n",
    "In this case, the best solution with MCS for 1000 evaluations result of\n",
    "4.517440589899316, this value represents the lowest value of the Ackley function\n",
    "found by MCS, and it may or may not be the global minimum of the function. Now,\n",
    "comparing with the DE for 1000 evaluations as well the result is\n",
    "1.9989670807518678e-08, so we can note that this value is much smaller than the\n",
    "MCS result, and it suggests that DE was able to find a much better minimum or in\n",
    "lower time for the Ackley function. However, it's important to note that the\n",
    "performance of DE can be sensitive to the choice of hyperparameters, so it's\n",
    "possible that better results could be obtained with different settings.These results\n",
    "suggest that DE is a more effective optimization algorithm for the Ackley function\n",
    "than MCS."
   ]
  },
  {
   "cell_type": "markdown",
   "id": "b80696e9",
   "metadata": {},
   "source": [
    "**c)** For DE with 2’000 function evaluations, 𝐹 = 0.7, and a population size of 5, 10, 15, and\n",
    "20, respectively: how does the cross-over probability affect the (typical) reported results?\n"
   ]
  },
  {
   "cell_type": "markdown",
   "id": "fc0884de",
   "metadata": {},
   "source": [
    "The cross-over probability (pXO) in Differential Evolution (DE) determines the probability of recombining the parameters of two candidate solutions during the mutation operation.  \n",
    "A higher pXO value means a higher probability of recombination, which can potentially help to explore the search space more effectively.  \n",
    "However, a too high pXO value can also lead to premature convergence and a loss of diversity in the population.\n",
    "\n",
    "To investigate the effect of pXO on the performance of DE, we can compare the results of DE with different population sizes (5, 10, 15, and 20) and a fixed number of function evaluations (2000) for different values of pXO (e.g., 0.1, 0.3, 0.5, 0.7, and 0.9)."
   ]
  },
  {
   "cell_type": "code",
   "execution_count": 9,
   "id": "68d51396",
   "metadata": {},
   "outputs": [],
   "source": [
    "pop_size=[5,10,15,20]\n",
    "num_evaluations=2000\n",
    "cross_OP = [0.1, 0.3, 0.5, 0.7, 0.9]\n",
    "def compare_DE_cross_OP(pop_size, num_evaluations, cross_OP):\n",
    "    result = differential_evolution(ackley, [(-5, 5)]*5, popsize=pop_size, mutation=0.7, recombination=cross_OP, maxiter=num_evaluations//pop_size, tol=1e-7).fun\n",
    "    return result\n",
    "\n",
    "\n",
    "def compare_pXO_effect(pop_sizes, num_evaluations,cross_OP):\n",
    "    for i in pop_sizes:\n",
    "        print(f\"Population size: {i}\")\n",
    "        for j in cross_OP:\n",
    "            result = compare_DE_cross_OP(i, num_evaluations, j)\n",
    "            print(f\"pXO: {j}, result: {result}\")\n"
   ]
  },
  {
   "cell_type": "markdown",
   "id": "a6bc7839",
   "metadata": {},
   "source": [
    "The results of the code compare_pXO_effect(pop_size, num_evaluations,cross_OP) are:\n"
   ]
  },
  {
   "cell_type": "code",
   "execution_count": 8,
   "id": "fd8fc697",
   "metadata": {
    "scrolled": true
   },
   "outputs": [
    {
     "name": "stdout",
     "output_type": "stream",
     "text": [
      "Population size: 5\n",
      "pXO: 0.1, result: 3.9968028886505635e-15\n",
      "pXO: 0.3, result: 3.9968028886505635e-15\n",
      "pXO: 0.5, result: 4.440892098500626e-16\n",
      "pXO: 0.7, result: 3.9968028886505635e-15\n",
      "pXO: 0.9, result: 4.440892098500626e-16\n",
      "Population size: 10\n",
      "pXO: 0.1, result: 1.0903677960527602e-10\n",
      "pXO: 0.3, result: 2.1747048606357566e-12\n",
      "pXO: 0.5, result: 1.1102230246251565e-14\n",
      "pXO: 0.7, result: 4.440892098500626e-16\n",
      "pXO: 0.9, result: 7.549516567451064e-15\n",
      "Population size: 15\n",
      "pXO: 0.1, result: 2.3119071856925189e-07\n",
      "pXO: 0.3, result: 1.5274274733911852e-08\n",
      "pXO: 0.5, result: 1.2139911298447714e-09\n",
      "pXO: 0.7, result: 4.404698827897846e-11\n",
      "pXO: 0.9, result: 4.765077221691172e-13\n",
      "Population size: 20\n",
      "pXO: 0.1, result: 1.6424355653299472e-08\n",
      "pXO: 0.3, result: 2.006525123832148e-08\n",
      "pXO: 0.5, result: 5.257931410262984e-07\n",
      "pXO: 0.7, result: 1.5576379741588653e-08\n",
      "pXO: 0.9, result: 2.615664573824006e-09\n"
     ]
    }
   ],
   "source": [
    "compare_pXO_effect(pop_size, num_evaluations,cross_OP)"
   ]
  },
  {
   "cell_type": "markdown",
   "id": "3fc75433",
   "metadata": {},
   "source": [
    "Meanwhile the result is smaller, the algorithm’s performance is better. The results\n",
    "highlighted in yellow show whit which size of population and cross-over probability the\n",
    "performance of the Differential Evolution algorithm is better. So, for this Ackley function,\n",
    "smaller probabilities and larger population sizes tend to produce better results. In general\n",
    "larger population sizes may lead to better results because it increases the diversity of the\n",
    "population and helps to prevent the algorithm from getting stuck in local optima. But as I\n",
    "mentioned earlier high crossover probability may cause the algorithm to converge too\n",
    "quickly.\n"
   ]
  },
  {
   "cell_type": "markdown",
   "id": "1cdcbfb0",
   "metadata": {},
   "source": [
    "### PROBLEM 2"
   ]
  },
  {
   "cell_type": "markdown",
   "id": "8ab50126",
   "metadata": {},
   "source": [
    "**a)** Assume the items are not divisible and selection problem is binary, i.e., an item can be\n",
    "included or not, 𝑥𝑖 ∈ {0, 1}. What is the optimal combination for 𝑁 = 10? And for 𝑁 = 20?\n"
   ]
  },
  {
   "cell_type": "code",
   "execution_count": 2,
   "id": "69e522bd",
   "metadata": {},
   "outputs": [],
   "source": [
    "def knapsack_binary(N):\n",
    "    weight = np.arange(1,N+1)*(np.sqrt(2)) % 2\n",
    "    values = np.arange(1,N+1)*(np.pi) % 3\n",
    "    budget = N*0.3\n",
    "    all_comb = list(itertools.product([0, 1], repeat=N))\n",
    "    t_value = []\n",
    "    t_weight = []\n",
    "    for c in all_comb:\n",
    "        t_value.append(sum(values[i] for i in range(N) if c[i]))\n",
    "        t_weight.append(sum(weight[i] for i in range(N) if c[i]))\n",
    "    \n",
    "    # Find the combination that maximizes value and respects the weight constraint\n",
    "    max_value = max((v for v, w in zip(t_value, t_weight) if w <= budget))\n",
    "    op_comb = all_comb[t_value.index(max_value)]\n",
    "    \n",
    "    return op_comb"
   ]
  },
  {
   "cell_type": "code",
   "execution_count": 8,
   "id": "152d1f86",
   "metadata": {
    "scrolled": true
   },
   "outputs": [
    {
     "name": "stdout",
     "output_type": "stream",
     "text": [
      "Op. combination for N=10: (0, 0, 0, 0, 1, 1, 1, 1, 0, 1)\n",
      "Op. combination for N=20: (0, 0, 0, 0, 0, 0, 0, 0, 1, 1, 1, 1, 1, 1, 0, 1, 1, 1, 0, 1)\n"
     ]
    }
   ],
   "source": [
    "op_comb_10 = knapsack_binary(10)\n",
    "op_comb_20 = knapsack_binary(20)\n",
    "print(\"Op. combination for N=10:\", op_comb_10)\n",
    "print(\"Op. combination for N=20:\", op_comb_20)"
   ]
  },
  {
   "cell_type": "markdown",
   "id": "d3671b2d",
   "metadata": {},
   "source": [
    "A binary tuple of length N is produced as the function's output, and each element\n",
    "represents whether a given item is either included (1) or excluded (0) in the best possible\n",
    "outcome. The best combination of things with N=10 elements is (0, 0, 0, 0, 1, 1, 1, 1, 0, 1), meaning that items 5, 6, 7, 8, and 10 are packed in the knapsack_binary, but items 1, 2, 3, 4, and 9 are not. For N=20, which is (0, 0, 0, 0, 0, 0, 0, 0, 1, 1, 1, 1, 1, 1, 0, 1, 1, 1, 0, 1) Items 9, 10, 11, 12, 13, 14, 16, 17, 18, and 20 are included in the best combination of items. The function produces N items with corresponding weights and values from a number N as input. The combination with the highest value that complies with the weight requirement is then returned after generating all possible combinations of elements, computing the total value and weight for each combination.\n"
   ]
  },
  {
   "cell_type": "markdown",
   "id": "cc59f9b6",
   "metadata": {},
   "source": [
    "**b)**  Assume items are divisible and 𝑥𝑖 can be real-valued, yet within limits 0 ≤ 𝑥𝑖 ≤ 1. What are now the optimal solutions for 𝑁 = 10 and 𝑁 = 20?\n"
   ]
  },
  {
   "cell_type": "code",
   "execution_count": 9,
   "id": "36e67264",
   "metadata": {},
   "outputs": [],
   "source": [
    "def knapsack_fractional(N):\n",
    "    weight = np.arange(1,N+1)*(np.sqrt(2)) % 2\n",
    "    values = np.arange(1,N+1)*(np.pi) % 3\n",
    "    budget = N*0.3\n",
    "    value_per_weight = values / weight  #value per weight\n",
    "    sorted_items = sorted(zip(value_per_weight, weight, values), reverse=True)\n",
    "    t_value = 0\n",
    "    t_weight = 0\n",
    "    for vpw, w, v in sorted_items:\n",
    "        if t_weight + w <= budget:\n",
    "            # Take the entire item if it fits within the budget\n",
    "            t_value += v\n",
    "            t_weight += w\n",
    "        else:\n",
    "            # Take a fraction of the item that fits within the budget\n",
    "            fraction = (budget - t_weight) / w\n",
    "            t_value += v * fraction\n",
    "            t_weight += w * fraction\n",
    "            break\n",
    "    \n",
    "    return t_value, t_weight\n"
   ]
  },
  {
   "cell_type": "markdown",
   "id": "f4cbfceb",
   "metadata": {},
   "source": [
    "In this implementation, the items are sorted by value per unit weight in descending order, and then added to the knapsack in that order until the knapsack is full. If an item cannot be added in its entirety, a fraction of the item is added instead."
   ]
  },
  {
   "cell_type": "code",
   "execution_count": 10,
   "id": "2b7792a8",
   "metadata": {},
   "outputs": [
    {
     "name": "stdout",
     "output_type": "stream",
     "text": [
      "For 10, the optimal solution is: value=5.16, weight=3.00\n",
      "For 20, the optimal solution is: value=19.84, weight=6.00\n"
     ]
    }
   ],
   "source": [
    "\n",
    "optimal_value, optimal_weight = knapsack_fractional(10)\n",
    "print(f\"For 10, the optimal solution is: value={optimal_value:.2f}, weight={optimal_weight:.2f}\")\n",
    "\n",
    "optimal_value, optimal_weight = knapsack_fractional(20)\n",
    "print(f\"For 20, the optimal solution is: value={optimal_value:.2f}, weight={optimal_weight:.2f}\")\n",
    "\n"
   ]
  },
  {
   "cell_type": "markdown",
   "id": "8fa7ec46",
   "metadata": {},
   "source": [
    "The goal is to maximize the total value of the items selected while not exceeding the budget.The budget is set at N*0.3, hence the maximum combined weight of the chosen\n",
    "items cannot be greater than N*0.3.<br>\n",
    "Following that, the function determines the value per weight for each item and arranges them in decreasing weight. Once the money is spent, it continues to choose goods in decreasing value per weight order. In cases where an item's cost prevents full selection, a portion of the item is chosen based on the amount of budget that is still available.<br>\n",
    "The function returns the combined weight and value of the chosen items.<br>\n",
    "The program executes the knapsack_fractional function for two different values of N (10 and 20) and outputs the best result for each case."
   ]
  }
 ],
 "metadata": {
  "hide_input": false,
  "kernelspec": {
   "display_name": "Python 3 (ipykernel)",
   "language": "python",
   "name": "python3"
  },
  "language_info": {
   "codemirror_mode": {
    "name": "ipython",
    "version": 3
   },
   "file_extension": ".py",
   "mimetype": "text/x-python",
   "name": "python",
   "nbconvert_exporter": "python",
   "pygments_lexer": "ipython3",
   "version": "3.10.9"
  },
  "toc": {
   "base_numbering": 1,
   "nav_menu": {},
   "number_sections": true,
   "sideBar": true,
   "skip_h1_title": false,
   "title_cell": "Table of Contents",
   "title_sidebar": "Contents",
   "toc_cell": false,
   "toc_position": {},
   "toc_section_display": true,
   "toc_window_display": false
  },
  "varInspector": {
   "cols": {
    "lenName": 16,
    "lenType": 16,
    "lenVar": 40
   },
   "kernels_config": {
    "python": {
     "delete_cmd_postfix": "",
     "delete_cmd_prefix": "del ",
     "library": "var_list.py",
     "varRefreshCmd": "print(var_dic_list())"
    },
    "r": {
     "delete_cmd_postfix": ") ",
     "delete_cmd_prefix": "rm(",
     "library": "var_list.r",
     "varRefreshCmd": "cat(var_dic_list()) "
    }
   },
   "types_to_exclude": [
    "module",
    "function",
    "builtin_function_or_method",
    "instance",
    "_Feature"
   ],
   "window_display": false
  }
 },
 "nbformat": 4,
 "nbformat_minor": 5
}
